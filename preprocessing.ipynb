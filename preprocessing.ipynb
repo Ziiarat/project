{
 "cells": [
  {
   "cell_type": "markdown",
   "id": "57aa1a44-bbc0-431b-9bee-bcb5f02cc3b8",
   "metadata": {},
   "source": [
    "**1. Обзор данных**"
   ]
  },
  {
   "cell_type": "code",
   "execution_count": 583,
   "id": "98379332-e290-4c72-96ea-1cfbdc9e541e",
   "metadata": {},
   "outputs": [],
   "source": [
    "# Импортируем библиотеки, которые нам понадобятся\n",
    "import pandas as pd\n",
    "import matplotlib.pyplot as plt\n",
    "import seaborn as sns\n",
    "import numpy as np\n",
    "import scipy.stats as st"
   ]
  },
  {
   "cell_type": "code",
   "execution_count": 584,
   "id": "e7539db6-89fe-4c40-bf45-0d0c8b85cf9a",
   "metadata": {},
   "outputs": [],
   "source": [
    "# Считаем данные из csv-файла и сохраняем в переменную data\n",
    "data= pd.read_csv('/Users/ziyarat/ds_bootcamp/project/_data.csv')"
   ]
  },
  {
   "cell_type": "code",
   "execution_count": 585,
   "id": "d16510bb-6670-4065-a8d4-10d5bf772848",
   "metadata": {},
   "outputs": [
    {
     "name": "stdout",
     "output_type": "stream",
     "text": [
      "<class 'pandas.core.frame.DataFrame'>\n",
      "RangeIndex: 23368 entries, 0 to 23367\n",
      "Data columns (total 25 columns):\n",
      " #   Column                    Non-Null Count  Dtype  \n",
      "---  ------                    --------------  -----  \n",
      " 0   Unnamed: 0                23368 non-null  int64  \n",
      " 1   ID  объявления            23368 non-null  int64  \n",
      " 2   Количество комнат         22327 non-null  object \n",
      " 3   Тип                       23368 non-null  object \n",
      " 4   Метро                     22053 non-null  object \n",
      " 5   Адрес                     23368 non-null  object \n",
      " 6   Площадь, м2               23368 non-null  object \n",
      " 7   Дом                       23368 non-null  object \n",
      " 8   Парковка                  9951 non-null   object \n",
      " 9   Цена                      23368 non-null  object \n",
      " 10  Телефоны                  23368 non-null  object \n",
      " 11  Описание                  23368 non-null  object \n",
      " 12  Ремонт                    20613 non-null  object \n",
      " 13  Площадь комнат, м2        14458 non-null  object \n",
      " 14  Балкон                    15390 non-null  object \n",
      " 15  Окна                      16755 non-null  object \n",
      " 16  Санузел                   20696 non-null  object \n",
      " 17  Можно с детьми/животными  17272 non-null  object \n",
      " 18  Дополнительно             23011 non-null  object \n",
      " 19  Название ЖК               5848 non-null   object \n",
      " 20  Серия дома                2163 non-null   object \n",
      " 21  Высота потолков, м        11206 non-null  float64\n",
      " 22  Лифт                      17868 non-null  object \n",
      " 23  Мусоропровод              12846 non-null  object \n",
      " 24  Ссылка на объявление      23368 non-null  object \n",
      "dtypes: float64(1), int64(2), object(22)\n",
      "memory usage: 4.5+ MB\n"
     ]
    },
    {
     "data": {
      "text/html": [
       "<div>\n",
       "<style scoped>\n",
       "    .dataframe tbody tr th:only-of-type {\n",
       "        vertical-align: middle;\n",
       "    }\n",
       "\n",
       "    .dataframe tbody tr th {\n",
       "        vertical-align: top;\n",
       "    }\n",
       "\n",
       "    .dataframe thead th {\n",
       "        text-align: right;\n",
       "    }\n",
       "</style>\n",
       "<table border=\"1\" class=\"dataframe\">\n",
       "  <thead>\n",
       "    <tr style=\"text-align: right;\">\n",
       "      <th></th>\n",
       "      <th>Unnamed: 0</th>\n",
       "      <th>ID  объявления</th>\n",
       "      <th>Количество комнат</th>\n",
       "      <th>Тип</th>\n",
       "      <th>Метро</th>\n",
       "      <th>Адрес</th>\n",
       "      <th>Площадь, м2</th>\n",
       "      <th>Дом</th>\n",
       "      <th>Парковка</th>\n",
       "      <th>Цена</th>\n",
       "      <th>...</th>\n",
       "      <th>Окна</th>\n",
       "      <th>Санузел</th>\n",
       "      <th>Можно с детьми/животными</th>\n",
       "      <th>Дополнительно</th>\n",
       "      <th>Название ЖК</th>\n",
       "      <th>Серия дома</th>\n",
       "      <th>Высота потолков, м</th>\n",
       "      <th>Лифт</th>\n",
       "      <th>Мусоропровод</th>\n",
       "      <th>Ссылка на объявление</th>\n",
       "    </tr>\n",
       "  </thead>\n",
       "  <tbody>\n",
       "    <tr>\n",
       "      <th>0</th>\n",
       "      <td>0</td>\n",
       "      <td>271271157</td>\n",
       "      <td>4</td>\n",
       "      <td>Квартира</td>\n",
       "      <td>м. Смоленская (9 мин пешком)</td>\n",
       "      <td>Москва, улица Новый Арбат, 27</td>\n",
       "      <td>200.0/20.0</td>\n",
       "      <td>5/16, Монолитный</td>\n",
       "      <td>подземная</td>\n",
       "      <td>500000.0 руб./ За месяц, Залог - 500000 руб., ...</td>\n",
       "      <td>...</td>\n",
       "      <td>NaN</td>\n",
       "      <td>NaN</td>\n",
       "      <td>Можно с детьми, Можно с животными</td>\n",
       "      <td>Мебель в комнатах, Мебель на кухне, Ванна, Душ...</td>\n",
       "      <td>Новый Арбат, 2010</td>\n",
       "      <td>NaN</td>\n",
       "      <td>3.0</td>\n",
       "      <td>Пасс (4), Груз (1)</td>\n",
       "      <td>Да</td>\n",
       "      <td>https://www.cian.ru/rent/flat/271271157</td>\n",
       "    </tr>\n",
       "    <tr>\n",
       "      <th>1</th>\n",
       "      <td>1</td>\n",
       "      <td>271634126</td>\n",
       "      <td>4</td>\n",
       "      <td>Квартира</td>\n",
       "      <td>м. Смоленская (8 мин пешком)</td>\n",
       "      <td>Москва, улица Новый Арбат, 27</td>\n",
       "      <td>198.0/95.0/18.0</td>\n",
       "      <td>5/16, Монолитно-кирпичный</td>\n",
       "      <td>подземная</td>\n",
       "      <td>500000.0 руб./ За месяц, Залог - 500000 руб., ...</td>\n",
       "      <td>...</td>\n",
       "      <td>На улицу и двор</td>\n",
       "      <td>Совмещенный (2), Раздельный (1)</td>\n",
       "      <td>Можно с детьми</td>\n",
       "      <td>Мебель в комнатах, Мебель на кухне, Ванна, Душ...</td>\n",
       "      <td>Новый Арбат</td>\n",
       "      <td>NaN</td>\n",
       "      <td>3.5</td>\n",
       "      <td>Пасс (1), Груз (1)</td>\n",
       "      <td>Нет</td>\n",
       "      <td>https://www.cian.ru/rent/flat/271634126</td>\n",
       "    </tr>\n",
       "    <tr>\n",
       "      <th>2</th>\n",
       "      <td>2</td>\n",
       "      <td>271173086</td>\n",
       "      <td>4, Оба варианта</td>\n",
       "      <td>Квартира</td>\n",
       "      <td>м. Смоленская (7 мин пешком)</td>\n",
       "      <td>Москва, улица Новый Арбат, 27</td>\n",
       "      <td>200.0/116.0/4.0</td>\n",
       "      <td>5/16</td>\n",
       "      <td>подземная</td>\n",
       "      <td>500000.0 руб./ За месяц, Залог - 500000 руб., ...</td>\n",
       "      <td>...</td>\n",
       "      <td>На улицу и двор</td>\n",
       "      <td>Совмещенный (3)</td>\n",
       "      <td>Можно с детьми</td>\n",
       "      <td>Мебель в комнатах, Мебель на кухне, Ванна, Душ...</td>\n",
       "      <td>Новый Арбат</td>\n",
       "      <td>NaN</td>\n",
       "      <td>3.2</td>\n",
       "      <td>Пасс (1)</td>\n",
       "      <td>NaN</td>\n",
       "      <td>https://www.cian.ru/rent/flat/271173086</td>\n",
       "    </tr>\n",
       "    <tr>\n",
       "      <th>3</th>\n",
       "      <td>3</td>\n",
       "      <td>272197456</td>\n",
       "      <td>4, Оба варианта</td>\n",
       "      <td>Квартира</td>\n",
       "      <td>м. Смоленская (3 мин пешком)</td>\n",
       "      <td>Москва, переулок Плотников, 21С1</td>\n",
       "      <td>170.0/95.0/17.0</td>\n",
       "      <td>5/6</td>\n",
       "      <td>подземная</td>\n",
       "      <td>400000.0 руб./ За месяц, Залог - 400000 руб., ...</td>\n",
       "      <td>...</td>\n",
       "      <td>На улицу и двор</td>\n",
       "      <td>Совмещенный (3)</td>\n",
       "      <td>Можно с животными</td>\n",
       "      <td>Мебель в комнатах, Мебель на кухне, Ванна, Душ...</td>\n",
       "      <td>NaN</td>\n",
       "      <td>NaN</td>\n",
       "      <td>3.2</td>\n",
       "      <td>Пасс (1)</td>\n",
       "      <td>NaN</td>\n",
       "      <td>https://www.cian.ru/rent/flat/272197456</td>\n",
       "    </tr>\n",
       "    <tr>\n",
       "      <th>4</th>\n",
       "      <td>4</td>\n",
       "      <td>273614615</td>\n",
       "      <td>2</td>\n",
       "      <td>Квартира</td>\n",
       "      <td>м. Арбатская (7 мин пешком)</td>\n",
       "      <td>Москва, улица Новый Арбат, 15</td>\n",
       "      <td>58.0/38.0/5.0</td>\n",
       "      <td>12/26, Панельный</td>\n",
       "      <td>NaN</td>\n",
       "      <td>225000.0 руб./ За месяц, Залог - 225000 руб., ...</td>\n",
       "      <td>...</td>\n",
       "      <td>На улицу и двор</td>\n",
       "      <td>Совмещенный (2)</td>\n",
       "      <td>NaN</td>\n",
       "      <td>Мебель в комнатах, Мебель на кухне, Ванна, Душ...</td>\n",
       "      <td>The Book</td>\n",
       "      <td>NaN</td>\n",
       "      <td>3.9</td>\n",
       "      <td>Пасс (1), Груз (1)</td>\n",
       "      <td>Да</td>\n",
       "      <td>https://www.cian.ru/rent/flat/273614615</td>\n",
       "    </tr>\n",
       "  </tbody>\n",
       "</table>\n",
       "<p>5 rows × 25 columns</p>\n",
       "</div>"
      ],
      "text/plain": [
       "   Unnamed: 0  ID  объявления Количество комнат       Тип  \\\n",
       "0           0       271271157                 4  Квартира   \n",
       "1           1       271634126                 4  Квартира   \n",
       "2           2       271173086   4, Оба варианта  Квартира   \n",
       "3           3       272197456   4, Оба варианта  Квартира   \n",
       "4           4       273614615                 2  Квартира   \n",
       "\n",
       "                          Метро                             Адрес  \\\n",
       "0  м. Смоленская (9 мин пешком)     Москва, улица Новый Арбат, 27   \n",
       "1  м. Смоленская (8 мин пешком)     Москва, улица Новый Арбат, 27   \n",
       "2  м. Смоленская (7 мин пешком)     Москва, улица Новый Арбат, 27   \n",
       "3  м. Смоленская (3 мин пешком)  Москва, переулок Плотников, 21С1   \n",
       "4   м. Арбатская (7 мин пешком)     Москва, улица Новый Арбат, 15   \n",
       "\n",
       "       Площадь, м2                        Дом   Парковка  \\\n",
       "0       200.0/20.0           5/16, Монолитный  подземная   \n",
       "1  198.0/95.0/18.0  5/16, Монолитно-кирпичный  подземная   \n",
       "2  200.0/116.0/4.0                       5/16  подземная   \n",
       "3  170.0/95.0/17.0                        5/6  подземная   \n",
       "4    58.0/38.0/5.0           12/26, Панельный        NaN   \n",
       "\n",
       "                                                Цена  ...             Окна  \\\n",
       "0  500000.0 руб./ За месяц, Залог - 500000 руб., ...  ...              NaN   \n",
       "1  500000.0 руб./ За месяц, Залог - 500000 руб., ...  ...  На улицу и двор   \n",
       "2  500000.0 руб./ За месяц, Залог - 500000 руб., ...  ...  На улицу и двор   \n",
       "3  400000.0 руб./ За месяц, Залог - 400000 руб., ...  ...  На улицу и двор   \n",
       "4  225000.0 руб./ За месяц, Залог - 225000 руб., ...  ...  На улицу и двор   \n",
       "\n",
       "                           Санузел           Можно с детьми/животными  \\\n",
       "0                              NaN  Можно с детьми, Можно с животными   \n",
       "1  Совмещенный (2), Раздельный (1)                     Можно с детьми   \n",
       "2                  Совмещенный (3)                     Можно с детьми   \n",
       "3                  Совмещенный (3)                  Можно с животными   \n",
       "4                  Совмещенный (2)                                NaN   \n",
       "\n",
       "                                       Дополнительно        Название ЖК  \\\n",
       "0  Мебель в комнатах, Мебель на кухне, Ванна, Душ...  Новый Арбат, 2010   \n",
       "1  Мебель в комнатах, Мебель на кухне, Ванна, Душ...        Новый Арбат   \n",
       "2  Мебель в комнатах, Мебель на кухне, Ванна, Душ...        Новый Арбат   \n",
       "3  Мебель в комнатах, Мебель на кухне, Ванна, Душ...                NaN   \n",
       "4  Мебель в комнатах, Мебель на кухне, Ванна, Душ...           The Book   \n",
       "\n",
       "  Серия дома Высота потолков, м                Лифт Мусоропровод  \\\n",
       "0        NaN                3.0  Пасс (4), Груз (1)           Да   \n",
       "1        NaN                3.5  Пасс (1), Груз (1)          Нет   \n",
       "2        NaN                3.2            Пасс (1)          NaN   \n",
       "3        NaN                3.2            Пасс (1)          NaN   \n",
       "4        NaN                3.9  Пасс (1), Груз (1)           Да   \n",
       "\n",
       "                      Ссылка на объявление  \n",
       "0  https://www.cian.ru/rent/flat/271271157  \n",
       "1  https://www.cian.ru/rent/flat/271634126  \n",
       "2  https://www.cian.ru/rent/flat/271173086  \n",
       "3  https://www.cian.ru/rent/flat/272197456  \n",
       "4  https://www.cian.ru/rent/flat/273614615  \n",
       "\n",
       "[5 rows x 25 columns]"
      ]
     },
     "execution_count": 585,
     "metadata": {},
     "output_type": "execute_result"
    }
   ],
   "source": [
    "# Выводим основную информацию \n",
    "data.info()\n",
    "data.head()"
   ]
  },
  {
   "cell_type": "code",
   "execution_count": 586,
   "id": "69b58cd0-c555-4c7f-a814-f8a8afdae82e",
   "metadata": {},
   "outputs": [
    {
     "data": {
      "text/plain": [
       "Index(['Unnamed: 0', 'ID  объявления', 'Количество комнат', 'Тип', 'Метро',\n",
       "       'Адрес', 'Площадь, м2', 'Дом', 'Парковка', 'Цена', 'Телефоны',\n",
       "       'Описание', 'Ремонт', 'Площадь комнат, м2', 'Балкон', 'Окна', 'Санузел',\n",
       "       'Можно с детьми/животными', 'Дополнительно', 'Название ЖК',\n",
       "       'Серия дома', 'Высота потолков, м', 'Лифт', 'Мусоропровод',\n",
       "       'Ссылка на объявление'],\n",
       "      dtype='object')"
      ]
     },
     "execution_count": 586,
     "metadata": {},
     "output_type": "execute_result"
    }
   ],
   "source": [
    "data.columns"
   ]
  },
  {
   "cell_type": "markdown",
   "id": "e2ad45fc-78ed-43e1-a4a3-e77b8dc5e702",
   "metadata": {},
   "source": [
    "**2. Предобработка данных** "
   ]
  },
  {
   "cell_type": "markdown",
   "id": "db29b240-d1ce-40b9-8ae5-f3ce70fbee6a",
   "metadata": {},
   "source": [
    "*2.1. Переименование колонок*"
   ]
  },
  {
   "cell_type": "code",
   "execution_count": 587,
   "id": "b536f575-80e3-4daf-8343-351b83113de5",
   "metadata": {},
   "outputs": [],
   "source": [
    "# Переводим название колонок на английский\n",
    "\n",
    "# Чтобы не составлять вручную словарь \n",
    "# from deep_translator import GoogleTranslator\n",
    "# translator = Translator()\n",
    "\n",
    "# # Перевод названий столбцов\n",
    "# new_columns = {}\n",
    "# for col in data.columns:\n",
    "#     translation = translator.translate(col, dest='en').text\n",
    "#     new_columns[col] = translation\n",
    "\n",
    "# # Переименование столбцов\n",
    "# data = data.rename(columns=new_columns)\n",
    "\n",
    "# Здесь что-то пошло не так"
   ]
  },
  {
   "cell_type": "code",
   "execution_count": 588,
   "id": "1e7737e9-6c42-420b-abfd-4ad64772ffc4",
   "metadata": {},
   "outputs": [],
   "source": [
    "# Составляем словарь вручную\n",
    "translation_dict = {\n",
    "    'Unnamed: 0': 'Unnamed: 0', \n",
    "    'ID объявления': 'ad ID',\n",
    "    'Количество комнат': 'Number of Rooms',\n",
    "    'Тип': 'Property Type',\n",
    "    'Метро': 'Subway Station',\n",
    "    'Адрес': 'Address',\n",
    "    'Площадь, м2': 'Area, sq m',\n",
    "    'Дом': 'Building',\n",
    "    'Парковка': 'Parking',\n",
    "    'Цена': 'Price',\n",
    "    'Телефоны': 'Phone Numbers',\n",
    "    'Описание': 'Description',\n",
    "    'Ремонт': 'Renovation',\n",
    "    'Площадь комнат, м2': 'Room Area, sq m',\n",
    "    'Балкон': 'Balcony',\n",
    "    'Окна': 'Windows',\n",
    "    'Санузел': 'Bathroom',\n",
    "    'Можно с детьми/животными': 'Children/Pets Allowed',\n",
    "    'Дополнительно': 'Additional Information',\n",
    "    'Название ЖК': 'Residential Complex Name',\n",
    "    'Серия дома': 'Building Series',\n",
    "    'Высота потолков, м': 'Ceiling Height, m',\n",
    "    'Лифт': 'Elevator',\n",
    "    'Мусоропровод': 'Garbage Chute',\n",
    "    'Ссылка на объявление': 'Ad Link'}\n",
    "    \n",
    "# Переименование столбцов\n",
    "data = data.rename(columns=translation_dict)"
   ]
  },
  {
   "cell_type": "code",
   "execution_count": 589,
   "id": "c693c6c9-9248-4333-b859-25710a1c5207",
   "metadata": {},
   "outputs": [],
   "source": [
    "# Приведем название столбцов к нижнему регистру\n",
    "data.columns = data.columns.str.lower()"
   ]
  },
  {
   "cell_type": "code",
   "execution_count": 590,
   "id": "60182b87-e24c-47ac-909e-519b06448e09",
   "metadata": {},
   "outputs": [],
   "source": [
    "# Заменяем пробелы и прочие знаки на нижние подчеркивания\n",
    "data.columns = data.columns.str.replace(r'[ :\\/,]', '_', regex=True)\n",
    "data.columns = data.columns.str.replace('__', '_')"
   ]
  },
  {
   "cell_type": "code",
   "execution_count": 591,
   "id": "4ece2049-36d7-4960-a709-8720b2ed767b",
   "metadata": {},
   "outputs": [
    {
     "data": {
      "text/plain": [
       "Index(['unnamed_0', 'id_объявления', 'number_of_rooms', 'property_type',\n",
       "       'subway_station', 'address', 'area_sq_m', 'building', 'parking',\n",
       "       'price', 'phone_numbers', 'description', 'renovation', 'room_area_sq_m',\n",
       "       'balcony', 'windows', 'bathroom', 'children_pets_allowed',\n",
       "       'additional_information', 'residential_complex_name', 'building_series',\n",
       "       'ceiling_height_m', 'elevator', 'garbage_chute', 'ad_link'],\n",
       "      dtype='object')"
      ]
     },
     "execution_count": 591,
     "metadata": {},
     "output_type": "execute_result"
    }
   ],
   "source": [
    "data.columns"
   ]
  },
  {
   "cell_type": "code",
   "execution_count": 592,
   "id": "96c1c768-66b2-4716-a975-d7aa175ff457",
   "metadata": {},
   "outputs": [
    {
     "data": {
      "text/plain": [
       "Index(['unnamed_0', 'id_ad', 'number_of_rooms', 'property_type',\n",
       "       'subway_station', 'address', 'area_sq_m', 'building', 'parking',\n",
       "       'price', 'phone_numbers', 'description', 'renovation', 'room_area_sq_m',\n",
       "       'balcony', 'windows', 'bathroom', 'children_pets_allowed',\n",
       "       'additional_information', 'residential_complex_name', 'building_series',\n",
       "       'ceiling_height_m', 'elevator', 'garbage_chute', 'ad_link'],\n",
       "      dtype='object')"
      ]
     },
     "execution_count": 592,
     "metadata": {},
     "output_type": "execute_result"
    }
   ],
   "source": [
    "# название данной колонки не перевелось на анг.\n",
    "# переводим на английский\n",
    "data = data.rename(columns={'id_объявления': 'id_ad'})\n",
    "data.columns "
   ]
  },
  {
   "cell_type": "code",
   "execution_count": 593,
   "id": "5f9e53c8-5e9e-40b7-8dde-38bc91e40e82",
   "metadata": {},
   "outputs": [
    {
     "data": {
      "text/plain": [
       "0"
      ]
     },
     "execution_count": 593,
     "metadata": {},
     "output_type": "execute_result"
    }
   ],
   "source": [
    "# Проверяем наличие дубликатов по id_ad\n",
    "data['id_ad'].duplicated().sum()"
   ]
  },
  {
   "cell_type": "code",
   "execution_count": 594,
   "id": "5a08edbe-2d72-4423-b173-9057a45ccc12",
   "metadata": {},
   "outputs": [],
   "source": [
    "# Фильтруем строки, где указана Москва\n",
    "moscow_df = data[data['address'].str.contains('Москва', case=False)]"
   ]
  },
  {
   "cell_type": "markdown",
   "id": "012141e2-278b-4826-a0f4-6a7398bb1cf8",
   "metadata": {},
   "source": [
    "*2.2. Удаление не нужных признаков*"
   ]
  },
  {
   "cell_type": "code",
   "execution_count": 595,
   "id": "79f19003-c7f7-4644-8f72-61312dd90167",
   "metadata": {},
   "outputs": [],
   "source": [
    "# Удаляем признаки существенно не влияющие на стоимость аренды жилья\n",
    "moscow_data = moscow_df.drop(['id_ad', 'phone_numbers', 'additional_information', 'ad_link', 'children_pets_allowed', 'windows', 'room_area_sq_m', 'description'], axis = 1)"
   ]
  },
  {
   "cell_type": "code",
   "execution_count": 596,
   "id": "731cab13-5c35-45ae-91db-f239ec79f948",
   "metadata": {},
   "outputs": [
    {
     "data": {
      "text/plain": [
       "array(['Квартира'], dtype=object)"
      ]
     },
     "execution_count": 596,
     "metadata": {},
     "output_type": "execute_result"
    }
   ],
   "source": [
    "# Проверка уникальных значений \n",
    "moscow_data['property_type'].sort_values().unique()"
   ]
  },
  {
   "cell_type": "code",
   "execution_count": 597,
   "id": "03855d3e-e88d-46d8-a9da-f757ebb6a68d",
   "metadata": {},
   "outputs": [],
   "source": [
    "# Учитывая, что тип данных везде 'квартира' удаляем данный столбец\n",
    "moscow_data.drop(columns=['property_type'], inplace=True)"
   ]
  },
  {
   "cell_type": "markdown",
   "id": "4888b7a5-d771-4bee-8a63-d976db57924d",
   "metadata": {},
   "source": [
    "*2.3. Удаление пропущенных значений*"
   ]
  },
  {
   "cell_type": "code",
   "execution_count": 598,
   "id": "f5b1d85e-086d-4ad8-bc1a-53a37c5b1c05",
   "metadata": {},
   "outputs": [
    {
     "data": {
      "text/plain": [
       "unnamed_0                       0\n",
       "number_of_rooms               535\n",
       "subway_station                346\n",
       "address                         0\n",
       "area_sq_m                       0\n",
       "building                        0\n",
       "parking                     11174\n",
       "price                           0\n",
       "renovation                   2463\n",
       "balcony                      6630\n",
       "bathroom                     2041\n",
       "residential_complex_name    15281\n",
       "building_series             17646\n",
       "ceiling_height_m             9202\n",
       "elevator                     4192\n",
       "garbage_chute                8007\n",
       "dtype: int64"
      ]
     },
     "execution_count": 598,
     "metadata": {},
     "output_type": "execute_result"
    }
   ],
   "source": [
    "# Определим количество пропущенных значений для каждого столбца комбинацией 2-х методов\n",
    "moscow_data.isna().sum()"
   ]
  },
  {
   "cell_type": "markdown",
   "id": "8f529264-2c17-42be-ae0b-21797a6d814a",
   "metadata": {},
   "source": [
    "*11 колонок имеют пропущенные значения*"
   ]
  },
  {
   "cell_type": "code",
   "execution_count": 599,
   "id": "e50c41dc-8425-4986-a8bb-8ca1eaa6525f",
   "metadata": {},
   "outputs": [
    {
     "data": {
      "text/html": [
       "<style type=\"text/css\">\n",
       "#T_7f4cc_row0_col0, #T_7f4cc_row3_col0, #T_7f4cc_row4_col0, #T_7f4cc_row5_col0, #T_7f4cc_row7_col0 {\n",
       "  background-color: #3b4cc0;\n",
       "  color: #f1f1f1;\n",
       "}\n",
       "#T_7f4cc_row1_col0 {\n",
       "  background-color: #4358cb;\n",
       "  color: #f1f1f1;\n",
       "}\n",
       "#T_7f4cc_row2_col0 {\n",
       "  background-color: #4055c8;\n",
       "  color: #f1f1f1;\n",
       "}\n",
       "#T_7f4cc_row6_col0 {\n",
       "  background-color: #f5c1a9;\n",
       "  color: #000000;\n",
       "}\n",
       "#T_7f4cc_row8_col0 {\n",
       "  background-color: #6687ed;\n",
       "  color: #f1f1f1;\n",
       "}\n",
       "#T_7f4cc_row9_col0 {\n",
       "  background-color: #b9d0f9;\n",
       "  color: #000000;\n",
       "}\n",
       "#T_7f4cc_row10_col0 {\n",
       "  background-color: #5e7de7;\n",
       "  color: #f1f1f1;\n",
       "}\n",
       "#T_7f4cc_row11_col0 {\n",
       "  background-color: #e0654f;\n",
       "  color: #f1f1f1;\n",
       "}\n",
       "#T_7f4cc_row12_col0 {\n",
       "  background-color: #b40426;\n",
       "  color: #f1f1f1;\n",
       "}\n",
       "#T_7f4cc_row13_col0 {\n",
       "  background-color: #e2dad5;\n",
       "  color: #000000;\n",
       "}\n",
       "#T_7f4cc_row14_col0 {\n",
       "  background-color: #88abfd;\n",
       "  color: #000000;\n",
       "}\n",
       "#T_7f4cc_row15_col0 {\n",
       "  background-color: #d1dae9;\n",
       "  color: #000000;\n",
       "}\n",
       "</style>\n",
       "<table id=\"T_7f4cc\">\n",
       "  <thead>\n",
       "    <tr>\n",
       "      <th class=\"blank level0\" >&nbsp;</th>\n",
       "      <th id=\"T_7f4cc_level0_col0\" class=\"col_heading level0 col0\" >0</th>\n",
       "    </tr>\n",
       "  </thead>\n",
       "  <tbody>\n",
       "    <tr>\n",
       "      <th id=\"T_7f4cc_level0_row0\" class=\"row_heading level0 row0\" >unnamed_0</th>\n",
       "      <td id=\"T_7f4cc_row0_col0\" class=\"data row0 col0\" >0.000000</td>\n",
       "    </tr>\n",
       "    <tr>\n",
       "      <th id=\"T_7f4cc_level0_row1\" class=\"row_heading level0 row1\" >number_of_rooms</th>\n",
       "      <td id=\"T_7f4cc_row1_col0\" class=\"data row1 col0\" >2.700000</td>\n",
       "    </tr>\n",
       "    <tr>\n",
       "      <th id=\"T_7f4cc_level0_row2\" class=\"row_heading level0 row2\" >subway_station</th>\n",
       "      <td id=\"T_7f4cc_row2_col0\" class=\"data row2 col0\" >1.800000</td>\n",
       "    </tr>\n",
       "    <tr>\n",
       "      <th id=\"T_7f4cc_level0_row3\" class=\"row_heading level0 row3\" >address</th>\n",
       "      <td id=\"T_7f4cc_row3_col0\" class=\"data row3 col0\" >0.000000</td>\n",
       "    </tr>\n",
       "    <tr>\n",
       "      <th id=\"T_7f4cc_level0_row4\" class=\"row_heading level0 row4\" >area_sq_m</th>\n",
       "      <td id=\"T_7f4cc_row4_col0\" class=\"data row4 col0\" >0.000000</td>\n",
       "    </tr>\n",
       "    <tr>\n",
       "      <th id=\"T_7f4cc_level0_row5\" class=\"row_heading level0 row5\" >building</th>\n",
       "      <td id=\"T_7f4cc_row5_col0\" class=\"data row5 col0\" >0.000000</td>\n",
       "    </tr>\n",
       "    <tr>\n",
       "      <th id=\"T_7f4cc_level0_row6\" class=\"row_heading level0 row6\" >parking</th>\n",
       "      <td id=\"T_7f4cc_row6_col0\" class=\"data row6 col0\" >56.600000</td>\n",
       "    </tr>\n",
       "    <tr>\n",
       "      <th id=\"T_7f4cc_level0_row7\" class=\"row_heading level0 row7\" >price</th>\n",
       "      <td id=\"T_7f4cc_row7_col0\" class=\"data row7 col0\" >0.000000</td>\n",
       "    </tr>\n",
       "    <tr>\n",
       "      <th id=\"T_7f4cc_level0_row8\" class=\"row_heading level0 row8\" >renovation</th>\n",
       "      <td id=\"T_7f4cc_row8_col0\" class=\"data row8 col0\" >12.500000</td>\n",
       "    </tr>\n",
       "    <tr>\n",
       "      <th id=\"T_7f4cc_level0_row9\" class=\"row_heading level0 row9\" >balcony</th>\n",
       "      <td id=\"T_7f4cc_row9_col0\" class=\"data row9 col0\" >33.600000</td>\n",
       "    </tr>\n",
       "    <tr>\n",
       "      <th id=\"T_7f4cc_level0_row10\" class=\"row_heading level0 row10\" >bathroom</th>\n",
       "      <td id=\"T_7f4cc_row10_col0\" class=\"data row10 col0\" >10.300000</td>\n",
       "    </tr>\n",
       "    <tr>\n",
       "      <th id=\"T_7f4cc_level0_row11\" class=\"row_heading level0 row11\" >residential_complex_name</th>\n",
       "      <td id=\"T_7f4cc_row11_col0\" class=\"data row11 col0\" >77.400000</td>\n",
       "    </tr>\n",
       "    <tr>\n",
       "      <th id=\"T_7f4cc_level0_row12\" class=\"row_heading level0 row12\" >building_series</th>\n",
       "      <td id=\"T_7f4cc_row12_col0\" class=\"data row12 col0\" >89.400000</td>\n",
       "    </tr>\n",
       "    <tr>\n",
       "      <th id=\"T_7f4cc_level0_row13\" class=\"row_heading level0 row13\" >ceiling_height_m</th>\n",
       "      <td id=\"T_7f4cc_row13_col0\" class=\"data row13 col0\" >46.600000</td>\n",
       "    </tr>\n",
       "    <tr>\n",
       "      <th id=\"T_7f4cc_level0_row14\" class=\"row_heading level0 row14\" >elevator</th>\n",
       "      <td id=\"T_7f4cc_row14_col0\" class=\"data row14 col0\" >21.200000</td>\n",
       "    </tr>\n",
       "    <tr>\n",
       "      <th id=\"T_7f4cc_level0_row15\" class=\"row_heading level0 row15\" >garbage_chute</th>\n",
       "      <td id=\"T_7f4cc_row15_col0\" class=\"data row15 col0\" >40.600000</td>\n",
       "    </tr>\n",
       "  </tbody>\n",
       "</table>\n"
      ],
      "text/plain": [
       "<pandas.io.formats.style.Styler at 0x32ad42c90>"
      ]
     },
     "execution_count": 599,
     "metadata": {},
     "output_type": "execute_result"
    }
   ],
   "source": [
    "# Определим процент пропущенных значений в каждом столбце\n",
    "pd.DataFrame(round(moscow_data.isna().mean()*100,1)).style.background_gradient('coolwarm')\n",
    "# или data.isna().sum ()/ len(data)* 100"
   ]
  },
  {
   "cell_type": "markdown",
   "id": "84900aa5-88e9-43a1-b922-6540ceae0809",
   "metadata": {},
   "source": [
    "*Удаление строк с пропущенными значениями*\n",
    "- Удаление строк приводит к тому, что при дальнейших вычислениях используется не вся доступная информация, стандартные отклонения возрастают, полученные результаты становятся менее репрезентативными, поэтому удаляем строку, если только все значения отсутствуют"
   ]
  },
  {
   "cell_type": "code",
   "execution_count": 600,
   "id": "76c35722-9b3f-4c0f-a081-c036593394b4",
   "metadata": {},
   "outputs": [
    {
     "name": "stdout",
     "output_type": "stream",
     "text": [
      "<class 'pandas.core.frame.DataFrame'>\n",
      "Index: 19737 entries, 0 to 23367\n",
      "Data columns (total 16 columns):\n",
      " #   Column                    Non-Null Count  Dtype  \n",
      "---  ------                    --------------  -----  \n",
      " 0   unnamed_0                 19737 non-null  int64  \n",
      " 1   number_of_rooms           19202 non-null  object \n",
      " 2   subway_station            19391 non-null  object \n",
      " 3   address                   19737 non-null  object \n",
      " 4   area_sq_m                 19737 non-null  object \n",
      " 5   building                  19737 non-null  object \n",
      " 6   parking                   8563 non-null   object \n",
      " 7   price                     19737 non-null  object \n",
      " 8   renovation                17274 non-null  object \n",
      " 9   balcony                   13107 non-null  object \n",
      " 10  bathroom                  17696 non-null  object \n",
      " 11  residential_complex_name  4456 non-null   object \n",
      " 12  building_series           2091 non-null   object \n",
      " 13  ceiling_height_m          10535 non-null  float64\n",
      " 14  elevator                  15545 non-null  object \n",
      " 15  garbage_chute             11730 non-null  object \n",
      "dtypes: float64(1), int64(1), object(14)\n",
      "memory usage: 2.6+ MB\n"
     ]
    }
   ],
   "source": [
    "moscow_data.dropna(axis=0,inplace=True, how='all')\n",
    "moscow_data.info()"
   ]
  },
  {
   "cell_type": "markdown",
   "id": "462e7c4d-bad4-4648-a483-87f4bce2f317",
   "metadata": {},
   "source": [
    "*Количество строк не изменилось, значит, таковые отсутствовали*"
   ]
  },
  {
   "cell_type": "code",
   "execution_count": 601,
   "id": "97387f22-3cd3-41fd-80da-bc2b4a50ee85",
   "metadata": {},
   "outputs": [],
   "source": [
    "# Пропущенные значения в колонке number_of_rooms невозможно заменить и учитывая, что пропуски менее 3% удаляем строки с пропущенными значениями\n",
    "moscow_data.dropna(subset=['number_of_rooms'], inplace=True)"
   ]
  },
  {
   "cell_type": "markdown",
   "id": "cb1d6d77-b578-49c8-b292-967491b051ea",
   "metadata": {},
   "source": [
    "*Удаление колонок с пропущенными значениями*\n",
    "- Большое количество пропущенных значений в признаках: \n",
    " - residential_complex_name - 74%\n",
    " - building_series - 89% \n",
    "\n",
    "Так как название ЖК имеют в основном новый жилой фонд, а серию дома расшифровывать умеют не все, и учитывая, что имеется признак - address, удаление residential_complex_name, building_series не влияет на репрезентативность данных"
   ]
  },
  {
   "cell_type": "code",
   "execution_count": 602,
   "id": "bd72fe91-6714-42ce-9a22-966f35d358d8",
   "metadata": {},
   "outputs": [],
   "source": [
    "moscow_data.drop(['residential_complex_name', 'building_series'], axis=1, inplace=True)"
   ]
  },
  {
   "cell_type": "markdown",
   "id": "7a1c42f6-2266-4285-ad1b-ce1b97cbf29e",
   "metadata": {},
   "source": [
    "*2.4 Замена пропущенных значений*"
   ]
  },
  {
   "cell_type": "markdown",
   "id": "ded49630-f34a-4e06-9557-0b8aec35c654",
   "metadata": {},
   "source": [
    "*Пропущенные значения признаков заменяем на 0*\n",
    "\n",
    "Пропущенные значения следующих признаков заменяем на 0: \n",
    "- subway_station - 2 % \n",
    "- parking - 57 % \n",
    "- renovation - 13% \n",
    "- balcony - 34% \n",
    "- garbage_chute - 41%\n",
    "\n",
    "Такие признаки как: наличие рядом станции метро, парковки, свежего ремонта, балкона, мусоропровода являются преимуществом при сдаче в аренду жилья, если эти данные не указаны, то скорее всего данные признаки отсутствуют. Соответственно мы их заменяем на 0"
   ]
  },
  {
   "cell_type": "code",
   "execution_count": 603,
   "id": "326b9228-c4e1-463c-a1bd-8e0ac7d5cf59",
   "metadata": {},
   "outputs": [],
   "source": [
    "moscow_data['subway_station'] = moscow_data['subway_station'].fillna(0)\n",
    "moscow_data['parking'] = moscow_data['parking'].fillna(0)\n",
    "moscow_data['renovation'] = moscow_data['renovation'].fillna(0)\n",
    "moscow_data['balcony'] = moscow_data['balcony'].fillna(0)\n",
    "moscow_data['garbage_chute'] = moscow_data['garbage_chute'].fillna(0)"
   ]
  },
  {
   "cell_type": "code",
   "execution_count": 604,
   "id": "3bd799fe-ddb2-4122-aae4-aa3042557d00",
   "metadata": {},
   "outputs": [],
   "source": [
    "# Согласно требованиям дома с более чем 5 этажей должны иметь лифты\n",
    "# Функция для извлечения количества этажей\n",
    "def extract_floors(building):\n",
    "    return int(building.split('/')[0])\n",
    "# Применяем функцию к колонке 'building' и создаем новую колонку 'floors'\n",
    "moscow_data['floors'] = moscow_data['building'].apply(extract_floors)\n",
    "# Заменяем пропуски в колонке 'elevator' на 1 для домов с более чем 5 этажами\n",
    "moscow_data.loc[(df['floors'] > 5) & (moscow_data['elevator'].isnull()), 'elevator'] = 1\n",
    "# Удаляем пропуски \n",
    "moscow_data.dropna(subset=['elevator'], inplace=True)"
   ]
  },
  {
   "cell_type": "code",
   "execution_count": 605,
   "id": "940dce35-7916-4565-941f-1408d81f66a4",
   "metadata": {},
   "outputs": [],
   "source": [
    "# Пропущенные значения в колонке ceiling_height_m заменяем на среднее значение\n",
    "# Вычисляем среднее значение колонки 'ceiling_height_m', игнорируя NaN\n",
    "mean_height = moscow_data['ceiling_height_m'].mean()\n",
    "# Заменяем пропуски на среднее значение\n",
    "moscow_data['ceiling_height_m'].fillna(mean_height, inplace=True)"
   ]
  },
  {
   "cell_type": "code",
   "execution_count": 606,
   "id": "c1f4b621-89c4-4706-9db9-35ed9504dc65",
   "metadata": {},
   "outputs": [],
   "source": [
    "# Разделим данные колонки bathroom на две колонки\n",
    "moscow_data['Совмещенный'] = moscow_data['bathroom'].apply(lambda x: 'Совмещенный' if isinstance(x, str) and 'Совмещенный' in x else '')\n",
    "moscow_data['toilet'] = moscow_data['bathroom'].apply(lambda x: 'Раздельный' if isinstance(x, str) and 'Раздельный' in x else '')\n",
    "# и удаляем колонку bathroom и Совмещенный, так как преимущество имеется если раздельный\n",
    "moscow_data.drop(['bathroom', 'Совмещенный'], axis=1, inplace=True)"
   ]
  },
  {
   "cell_type": "code",
   "execution_count": 607,
   "id": "53eb797f-4b81-4bab-903b-28533c144a0b",
   "metadata": {},
   "outputs": [
    {
     "data": {
      "text/plain": [
       "unnamed_0           0\n",
       "number_of_rooms     0\n",
       "subway_station      0\n",
       "address             0\n",
       "area_sq_m           0\n",
       "building            0\n",
       "parking             0\n",
       "price               0\n",
       "renovation          0\n",
       "balcony             0\n",
       "ceiling_height_m    0\n",
       "elevator            0\n",
       "garbage_chute       0\n",
       "floors              0\n",
       "toilet              0\n",
       "dtype: int64"
      ]
     },
     "execution_count": 607,
     "metadata": {},
     "output_type": "execute_result"
    }
   ],
   "source": [
    "# Проверяем наличие пропусков после обработки\n",
    "moscow_data.isna().sum()"
   ]
  },
  {
   "cell_type": "markdown",
   "id": "906a5078-2cc1-4292-820e-51344a2b44ae",
   "metadata": {},
   "source": [
    "*2.5 Изменение типов данных*\n",
    "- Приводим значения всех колонок к числовым типам (int или float)"
   ]
  },
  {
   "cell_type": "code",
   "execution_count": 608,
   "id": "ffe30283-ceec-41dc-9831-432d4d7e9ec2",
   "metadata": {},
   "outputs": [
    {
     "name": "stdout",
     "output_type": "stream",
     "text": [
      "<class 'pandas.core.frame.DataFrame'>\n",
      "Index: 16295 entries, 0 to 23367\n",
      "Data columns (total 15 columns):\n",
      " #   Column            Non-Null Count  Dtype  \n",
      "---  ------            --------------  -----  \n",
      " 0   unnamed_0         16295 non-null  int64  \n",
      " 1   number_of_rooms   16295 non-null  object \n",
      " 2   subway_station    16295 non-null  object \n",
      " 3   address           16295 non-null  object \n",
      " 4   area_sq_m         16295 non-null  object \n",
      " 5   building          16295 non-null  object \n",
      " 6   parking           16295 non-null  object \n",
      " 7   price             16295 non-null  object \n",
      " 8   renovation        16295 non-null  object \n",
      " 9   balcony           16295 non-null  object \n",
      " 10  ceiling_height_m  16295 non-null  float64\n",
      " 11  elevator          16295 non-null  object \n",
      " 12  garbage_chute     16295 non-null  object \n",
      " 13  floors            16295 non-null  int64  \n",
      " 14  toilet            16295 non-null  object \n",
      "dtypes: float64(1), int64(2), object(12)\n",
      "memory usage: 2.0+ MB\n"
     ]
    }
   ],
   "source": [
    "moscow_data.info()"
   ]
  },
  {
   "cell_type": "code",
   "execution_count": 609,
   "id": "a8fa24a4-db78-414e-ab4b-05ca14ac7e86",
   "metadata": {},
   "outputs": [
    {
     "data": {
      "text/plain": [
       "array(['1', '1, Изолированная', '1, Оба варианта', '1, Смежная', '2',\n",
       "       '2, Изолированная', '2, Оба варианта', '2, Смежная', '3',\n",
       "       '3, Изолированная', '3, Оба варианта', '3, Смежная', '4',\n",
       "       '4, Изолированная', '4, Оба варианта', '4, Смежная', '5',\n",
       "       '5, Изолированная', '5, Оба варианта', '5, Смежная', '6',\n",
       "       '6, Изолированная', '6, Оба варианта', '6, Смежная'], dtype=object)"
      ]
     },
     "execution_count": 609,
     "metadata": {},
     "output_type": "execute_result"
    }
   ],
   "source": [
    "# Проверка уникальных значений \n",
    "moscow_data['number_of_rooms'].sort_values().unique()"
   ]
  },
  {
   "cell_type": "code",
   "execution_count": 610,
   "id": "29d7c3d6-5b94-45ed-89a8-e23610838296",
   "metadata": {},
   "outputs": [],
   "source": [
    "# Разделение столбца на две новые колонки\n",
    "moscow_data[['number_of_rooms_only', 'room_type']] = moscow_data['number_of_rooms'].str.split(',', expand=True)\n",
    "# Удаление пробелов\n",
    "moscow_data['number_of_rooms_only'] = moscow_data['number_of_rooms_only'].str.strip()\n",
    "moscow_data['room_type'] = moscow_data['room_type'].str.strip()\n",
    "# Удаляем колонку \n",
    "moscow_data.drop(columns=['number_of_rooms'], inplace=True)\n",
    "# Замена значений в колонке room_type\n",
    "# Проверяем наличие пропусков после обработки\n",
    "moscow_data[['number_of_rooms_only', 'room_type']].isna().sum()\n",
    "# Заменим пропуски в колонке тип комнат на 'Неизвестно'\n",
    "moscow_data['room_type'] = moscow_data['room_type'].fillna('Неизвестно')\n",
    "# Заменим на числовые данные\n",
    "moscow_data['room_type'] = moscow_data['room_type'].replace({'Неизвестно': 0, 'Изолированная': 1, 'Смежная': 2,'Оба варианта': 3})\n",
    "# Меняем тип данных колонки number_of_rooms_only\n",
    "moscow_data['number_of_rooms_only'] = moscow_data['number_of_rooms_only'].astype(int)"
   ]
  },
  {
   "cell_type": "code",
   "execution_count": 611,
   "id": "0b531ddb-20f6-4b76-997e-f450d1cb49cc",
   "metadata": {},
   "outputs": [],
   "source": [
    "# Оставляем объявления, где цены указаны в рублях\n",
    "rent_df= moscow_data[moscow_data['price'].str.contains('руб.')]"
   ]
  },
  {
   "cell_type": "code",
   "execution_count": 612,
   "id": "1798d4ce-6680-4236-8b2f-0ae687bbd30e",
   "metadata": {},
   "outputs": [],
   "source": [
    "# Оставляем только первую сумму\n",
    "def extract_price(price):\n",
    "    numeric_part = price.split('/')[0].strip()  \n",
    "    numeric_part = numeric_part.split()[0]  \n",
    "    return int(float(numeric_part))  \n",
    "#rent_df.loc[:, 'price_'] = rent_df['price'].apply(extract_price)\n",
    "rent_df = rent_df.assign(price_=rent_df['price'].apply(extract_price))\n",
    "rent_df.drop('price', axis=1, inplace=True)"
   ]
  },
  {
   "cell_type": "code",
   "execution_count": 613,
   "id": "2d73d2d2-5c62-44d3-90cc-74e4826fce11",
   "metadata": {},
   "outputs": [],
   "source": [
    "# Удаляем название метро, оставляем только растояние до метро\n",
    "import re\n",
    "rent_df['distance_to_subway'] = rent_df['subway_station'].str.extract(r'(\\d+)\\s*мин').astype(float)\n",
    "rent_df.drop('subway_station', axis=1, inplace=True)\n",
    "# Пропуски заменяем на 0\n",
    "rent_df['distance_to_subway'] = rent_df['distance_to_subway'].fillna(0)"
   ]
  },
  {
   "cell_type": "code",
   "execution_count": 614,
   "id": "b61841c5-b50a-4d89-862a-b3d8556ad52d",
   "metadata": {},
   "outputs": [],
   "source": [
    "rent_df['total_area'] = rent_df['area_sq_m'].str.split('/').str[0].astype(float)\n",
    "rent_df.drop('area_sq_m', axis=1, inplace=True)"
   ]
  },
  {
   "cell_type": "code",
   "execution_count": 615,
   "id": "19ee46ca-1729-4c47-97b1-bef50e481791",
   "metadata": {},
   "outputs": [],
   "source": [
    "# Преобразовать адреса в тип числовые типы не представляется возможным\n",
    "rent_df.drop('address', axis=1, inplace=True)"
   ]
  },
  {
   "cell_type": "code",
   "execution_count": 616,
   "id": "99e1057c-45d9-43e8-8243-064cf8dd877e",
   "metadata": {},
   "outputs": [],
   "source": [
    "# Заменяем текстовые значения на 1, оставляя другие значения без изменений \n",
    "# 0 означает, что отсутствует, 1 - имеется (toilet - имеется раздельный)\n",
    "rent_df['parking'] = rent_df['parking'].apply(lambda x: 1 if isinstance(x, str) and x.strip() != '0' else x)\n",
    "rent_df['renovation'] = rent_df['renovation'].apply(lambda x: 1 if isinstance(x, str) and x.strip() != '0' else x)\n",
    "rent_df['balcony'] = rent_df['balcony'].apply(lambda x: 1 if isinstance(x, str) and x.strip() != '0' else x)\n",
    "rent_df['elevator'] = rent_df['elevator'].apply(lambda x: 1 if isinstance(x, str) and x.strip() != '0' else x)\n",
    "rent_df['toilet'] = rent_df['toilet'].apply(lambda x: 1 if isinstance(x, str) and x.strip() != '0' else x)\n",
    "\n",
    "rent_df['garbage_chute'] = rent_df['garbage_chute'].replace({'да': 1, 'нет': 0})\n",
    "rent_df['garbage_chute'] = rent_df['garbage_chute'].apply(lambda x: 1 if isinstance(x, str) and x.strip() != '0' else x)\n"
   ]
  },
  {
   "cell_type": "code",
   "execution_count": 617,
   "id": "d5faa0c8-eea5-4419-a419-9afd6fa537e1",
   "metadata": {},
   "outputs": [],
   "source": [
    "# Оставляем значение этажность дома в новой колонке\n",
    "def extract_home(building):\n",
    "    return int(building.split('/')[1].strip().split(',')[0])\n",
    "rent_df['home'] = rent_df['building'].apply(extract_home)\n",
    "# Удаляем колонку building\n",
    "rent_df.drop('building', axis=1, inplace=True)"
   ]
  },
  {
   "cell_type": "code",
   "execution_count": 618,
   "id": "c32dc4d1-2779-4ccb-88d4-f12f07405e03",
   "metadata": {},
   "outputs": [
    {
     "name": "stdout",
     "output_type": "stream",
     "text": [
      "<class 'pandas.core.frame.DataFrame'>\n",
      "Index: 16274 entries, 0 to 23367\n",
      "Data columns (total 15 columns):\n",
      " #   Column                Non-Null Count  Dtype  \n",
      "---  ------                --------------  -----  \n",
      " 0   unnamed_0             16274 non-null  int64  \n",
      " 1   parking               16274 non-null  int64  \n",
      " 2   renovation            16274 non-null  int64  \n",
      " 3   balcony               16274 non-null  int64  \n",
      " 4   ceiling_height_m      16274 non-null  float64\n",
      " 5   elevator              16274 non-null  int64  \n",
      " 6   garbage_chute         16274 non-null  int64  \n",
      " 7   floors                16274 non-null  int64  \n",
      " 8   toilet                16274 non-null  int64  \n",
      " 9   number_of_rooms_only  16274 non-null  int64  \n",
      " 10  room_type             16274 non-null  int64  \n",
      " 11  price_                16274 non-null  int64  \n",
      " 12  distance_to_subway    16274 non-null  float64\n",
      " 13  total_area            16274 non-null  float64\n",
      " 14  home                  16274 non-null  int64  \n",
      "dtypes: float64(3), int64(12)\n",
      "memory usage: 2.0 MB\n"
     ]
    }
   ],
   "source": [
    "# Проверяем все ли значения числовые \n",
    "rent_df.info()"
   ]
  },
  {
   "cell_type": "code",
   "execution_count": 619,
   "id": "6964de6b-c6da-455b-a01c-996f720f9ee4",
   "metadata": {},
   "outputs": [],
   "source": [
    "# Итоговый df\n",
    "# Сохраните обработанный DataFrame в новый файл\n",
    "rent_df.to_csv('gz_data.csv', index=False)\n"
   ]
  },
  {
   "cell_type": "code",
   "execution_count": null,
   "id": "c27a1cd6-917d-4c8a-b440-27e5678a7d81",
   "metadata": {},
   "outputs": [],
   "source": []
  }
 ],
 "metadata": {
  "kernelspec": {
   "display_name": "Python 3 (ipykernel)",
   "language": "python",
   "name": "python3"
  },
  "language_info": {
   "codemirror_mode": {
    "name": "ipython",
    "version": 3
   },
   "file_extension": ".py",
   "mimetype": "text/x-python",
   "name": "python",
   "nbconvert_exporter": "python",
   "pygments_lexer": "ipython3",
   "version": "3.11.1"
  }
 },
 "nbformat": 4,
 "nbformat_minor": 5
}
